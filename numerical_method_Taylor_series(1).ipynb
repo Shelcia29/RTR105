{
  "nbformat": 4,
  "nbformat_minor": 0,
  "metadata": {
    "colab": {
      "name": "numerical_method_Taylor_series(1).ipynb",
      "provenance": [],
      "collapsed_sections": [],
      "authorship_tag": "ABX9TyOmMcQJzGECynuz7CcZXOe9",
      "include_colab_link": true
    },
    "kernelspec": {
      "name": "python3",
      "display_name": "Python 3"
    }
  },
  "cells": [
    {
      "cell_type": "markdown",
      "metadata": {
        "id": "view-in-github",
        "colab_type": "text"
      },
      "source": [
        "<a href=\"https://colab.research.google.com/github/Shelcia29/RTR105/blob/master/numerical_method_Taylor_series(1).ipynb\" target=\"_parent\"><img src=\"https://colab.research.google.com/assets/colab-badge.svg\" alt=\"Open In Colab\"/></a>"
      ]
    },
    {
      "cell_type": "markdown",
      "metadata": {
        "id": "n1B3OFIxPSDM",
        "colab_type": "text"
      },
      "source": [
        "#TAYLOR SERIES EXPANSION for **asin(x)** function"
      ]
    },
    {
      "cell_type": "code",
      "metadata": {
        "id": "Ra9KpeZuKOXB",
        "colab_type": "code",
        "colab": {}
      },
      "source": [
        "## -*- coding: Taylor series expansion for asin-*-\n",
        "import sympy as sy                    \n",
        "import numpy as np                    \n",
        "from sympy.functions import asin,cos  \n",
        "import matplotlib.pyplot as plt "
      ],
      "execution_count": 0,
      "outputs": []
    },
    {
      "cell_type": "markdown",
      "metadata": {
        "id": "FYYTsuS7KfPX",
        "colab_type": "text"
      },
      "source": [
        "We have specified what style we want to use in plotting, Matplotlib comes with a few styles already.\n"
      ]
    },
    {
      "cell_type": "code",
      "metadata": {
        "id": "Qd99gTEgMBUT",
        "colab_type": "code",
        "colab": {}
      },
      "source": [
        "plt.style.use(\"ggplot\")"
      ],
      "execution_count": 0,
      "outputs": []
    },
    {
      "cell_type": "markdown",
      "metadata": {
        "id": "1e0FQPI1Ld9L",
        "colab_type": "text"
      },
      "source": [
        "## Title for the 1st part "
      ]
    },
    {
      "cell_type": "code",
      "metadata": {
        "id": "2JiZLYDLLCpm",
        "colab_type": "code",
        "outputId": "6be57ad3-7c18-46cd-ee9a-616cf46354ce",
        "colab": {
          "base_uri": "https://localhost:8080/",
          "height": 34
        }
      },
      "source": [
        "print(\"Taylor series expansion of asin(x)\")  "
      ],
      "execution_count": 0,
      "outputs": [
        {
          "output_type": "stream",
          "text": [
            "Taylor series expansion of asin\n"
          ],
          "name": "stdout"
        }
      ]
    },
    {
      "cell_type": "markdown",
      "metadata": {
        "id": "ISjAvq-XL86o",
        "colab_type": "text"
      },
      "source": [
        "## Define the variable and the function to approximate"
      ]
    },
    {
      "cell_type": "code",
      "metadata": {
        "id": "JHBXXc_yLofg",
        "colab_type": "code",
        "colab": {}
      },
      "source": [
        "x = sy.Symbol('x')\n",
        "f = asin(x)"
      ],
      "execution_count": 0,
      "outputs": []
    },
    {
      "cell_type": "markdown",
      "metadata": {
        "id": "oaKeHj88Mf-Q",
        "colab_type": "text"
      },
      "source": [
        "## Factorial function of given number"
      ]
    },
    {
      "cell_type": "code",
      "metadata": {
        "id": "L1Ejrh0wMlBz",
        "colab_type": "code",
        "colab": {}
      },
      "source": [
        "def factorial(n):\n",
        "     if n <= 0:\n",
        "          return 1                            \n",
        "     else:\n",
        "          return n*factorial(n-1)"
      ],
      "execution_count": 0,
      "outputs": []
    },
    {
      "cell_type": "markdown",
      "metadata": {
        "id": "z7ftWlnKMqkP",
        "colab_type": "text"
      },
      "source": [
        "## Taylor approximation at x0 of the function 'function'"
      ]
    },
    {
      "cell_type": "code",
      "metadata": {
        "id": "gLjqSqEvMulF",
        "colab_type": "code",
        "colab": {}
      },
      "source": [
        "def taylor(function,x0,n):\n",
        "    i = 0\n",
        "    p = 0\n",
        "    while i <= n:\n",
        "        p = p + (function.diff(x,i).subs(x,x0))/(factorial(i))*(x-x0)**i\n",
        "        i += 1\n",
        "    return p"
      ],
      "execution_count": 0,
      "outputs": []
    },
    {
      "cell_type": "markdown",
      "metadata": {
        "id": "JCV-fdPFM-ay",
        "colab_type": "text"
      },
      "source": [
        "## Plot results\n",
        "### The np.linspace() function returns evenly spaced numbers over the specified interval"
      ]
    },
    {
      "cell_type": "code",
      "metadata": {
        "id": "8jbLQqvONPp2",
        "colab_type": "code",
        "colab": {}
      },
      "source": [
        "def plot():\n",
        "    x_lims = [-5,5]\n",
        "    x1 = np.linspace(x_lims[0],x_lims[1],800)\n",
        "    y1 = []"
      ],
      "execution_count": 0,
      "outputs": []
    },
    {
      "cell_type": "markdown",
      "metadata": {
        "id": "phKihfbnNcgD",
        "colab_type": "text"
      },
      "source": [
        "## Approximate up until 10 starting from 1 and using steps of 2\n",
        "### Python built-in function range() generates the integer numbers between the given start integer(1) to the stop integer(10)"
      ]
    },
    {
      "cell_type": "code",
      "metadata": {
        "id": "FrVPXRsWNwaD",
        "colab_type": "code",
        "colab": {}
      },
      "source": [
        "for j in range(1,10,2):      \n",
        "        func = taylor(f,0,j)\n",
        "        print('n='+str(j),func)                    \n",
        "        for k in x1:\n",
        "            y1.append(func.subs(x,k))\n",
        "        plt.plot(x1,y1,label='order '+str(j))\n",
        "        y1 = []"
      ],
      "execution_count": 0,
      "outputs": []
    },
    {
      "cell_type": "markdown",
      "metadata": {
        "id": "862dnfJ1N6bA",
        "colab_type": "text"
      },
      "source": [
        "## Plot the function to approximate (asin)"
      ]
    },
    {
      "cell_type": "code",
      "metadata": {
        "id": "5hiHWmNjOAAe",
        "colab_type": "code",
        "colab": {}
      },
      "source": [
        "    plt.plot(x1,np.sin(x1),label='asin of x')\n",
        "    plt.xlim(x_lims)\n",
        "    plt.ylim([-5,5])\n",
        "    plt.xlabel('x')\n",
        "    plt.ylabel('y')\n",
        "    plt.legend()\n",
        "    plt.grid(True)                              \n",
        "    plt.title('Taylor series of asin') \n",
        "    plt.show()\n",
        "plot()"
      ],
      "execution_count": 0,
      "outputs": []
    },
    {
      "cell_type": "markdown",
      "metadata": {
        "id": "-_N5_20rP0BC",
        "colab_type": "text"
      },
      "source": [
        "#CALCULATION of **asin(x)** value"
      ]
    },
    {
      "cell_type": "code",
      "metadata": {
        "id": "FRw_RxINQDWZ",
        "colab_type": "code",
        "colab": {}
      },
      "source": [
        "from math import asin                                     \n",
        "print(\"Taylor series calculation of asin(x)\")                 \n",
        "def my_asin(x):                                               \n",
        "   k = 0\n",
        "   a = x\n",
        "   S = a\n",
        "   print(\"a0 = %6.2f S0 = %6.2f\"%(a,S))"
      ],
      "execution_count": 0,
      "outputs": []
    },
    {
      "cell_type": "markdown",
      "metadata": {
        "id": "ZoUXNb_EQlt2",
        "colab_type": "text"
      },
      "source": [
        "### The format specifier in the above print slot says how to format the value: %6.2f means: \n",
        "1. \"6\" indicates 6 spaces allocated to this value.\n",
        "2. \"f\" indicates treat is as a floating-point number.\n",
        "3. \"2\" indicates places to the right of the decimal point (i.e.,)only two digits after the decimal point"
      ]
    },
    {
      "cell_type": "markdown",
      "metadata": {
        "id": "k8xPEBJzSgXp",
        "colab_type": "text"
      },
      "source": [
        "### *while* loop repeats the sequence of actions many times until some condition evaluates to False, here *(k<4)*"
      ]
    },
    {
      "cell_type": "markdown",
      "metadata": {
        "id": "0tDP8icYS6xq",
        "colab_type": "text"
      },
      "source": [
        "### From previous commond where (k=0) the value of a and S are saved as:\n",
        "\n",
        "\n",
        "*   a0 = x (input = 0.75) = 0.75\n",
        "*   S0 = a0 = 0.75\n",
        "\n",
        "\n",
        "\n"
      ]
    },
    {
      "cell_type": "code",
      "metadata": {
        "id": "eTdpXH7LR22I",
        "colab_type": "code",
        "colab": {}
      },
      "source": [
        " while k < 4:                                          \n",
        "     k = k + 1\n",
        "     R = ((x**(2))*((2*k-1)**(2)))/((2*k)*(2*k+1))\n",
        "     a = a * R\n",
        "     S = S + a\n",
        "     print(\"a%d = %6.2f S%d = %6.2f\"%(k,a,k,S))\n",
        "   print(\"The Final answer\")\n",
        "   return S"
      ],
      "execution_count": 0,
      "outputs": []
    },
    {
      "cell_type": "markdown",
      "metadata": {
        "id": "eNK34AEteIfp",
        "colab_type": "text"
      },
      "source": [
        "### From the above commands where (k<4), we obtain the values of a and S as follows:   \n",
        "\n",
        "1.   k = 1, x = 0.75                  \n",
        "  a1 = a0 * R = x * ((x**(2))*((2*k-1)**(2)))/((2*k)*(2*k+1))                        \n",
        "  a1 = 0.07                    \n",
        "  S1 = a1 + S0 = 0.07 + 0.75                         \n",
        "  S1 = 0.82\n",
        "\n",
        "2.   k = 2, x = 0.75                \n",
        "a2 = a1 * R = x * ((x**(2))*((2*k-1)**(2)))/((2*k)*(2*k+1))                   a2 = 0.017 = 0.02              \n",
        "S2 = a2 + S1 = 0.02 + 0.82                      \n",
        "S2 = 0.84\n",
        "\n",
        "3.   k = 3, x = 0.75             \n",
        "a3 = a2 * R = x * ((x**(2))*((2*k-1)**(2)))/((2*k)*(2*k+1))           \n",
        "a3 = 0.006 = 0.01            \n",
        "S3 = a3 + S2 = 0.01 + 0.84                    \n",
        "S3 = 0.85 \n",
        "\n",
        "4.   k = 4, x = 0.75           \n",
        "a4 = a3 * R = x * ((x**(2))*((2*k-1)**(2)))/((2*k)*(2*k+1))       \n",
        "a4 = 0.003 = 0.00            \n",
        "S4 = a4 + S3 = 0.00 + 0.85                 \n",
        "S4 = 0.85 \n",
        "\n",
        "### the above calculations explains the print function in the above code:\n",
        "*print(\"a%d = %6.2f S%d = %6.2f\"%(k,a,k,S))*      \n",
        "*  a%d = %6.2f %(k,a):                 \n",
        "   indicates that \"a\" of k value, (for example, if k = 1, a = a1 and the a1 must be of 6 digit but after the decimal point there should be only two digits. As we see in the above calculations actual a2=0.017 but \"%6.2f\" changes the a2=0.02). \n",
        "*   S%d = %6.2f %(k,S):                    \n",
        "    indicates that \"S\" of k value, (for example, if k = 1, S = a1 and the S1 must be of 6 digit but after the decimal point there should be only two digits). \n",
        "\n",
        "    \n",
        "\n",
        "\n",
        "\n",
        "\n"
      ]
    },
    {
      "cell_type": "code",
      "metadata": {
        "id": "sZIm69QnTQ3a",
        "colab_type": "code",
        "colab": {}
      },
      "source": [
        "x = float(input(\"Enter argument (x): \"))                 \n",
        "y = asin(x)\n",
        "print(\"standard asin(%.2f) = %6.2f\"%(x,y))        \n",
        "yy = my_asin(x)\n",
        "print(\"my asin(%.2f) = %6.2f\"%(x,yy))"
      ],
      "execution_count": 0,
      "outputs": []
    },
    {
      "cell_type": "markdown",
      "metadata": {
        "id": "-2W88CzxTbX9",
        "colab_type": "text"
      },
      "source": [
        "\n",
        "\n",
        "*   The float()built-in function convert the input string to float type.\n",
        "*   *%.2f* ensures that if the input entered is \"0.746\" it convert the input to \"0.75\" because *%.2f* indicates that only two digits after the decimal point. So, it round up the input from 0.746 to 0.75.\n",
        "\n",
        "\n",
        "\n"
      ]
    },
    {
      "cell_type": "markdown",
      "metadata": {
        "id": "T1xiY4lLVsVT",
        "colab_type": "text"
      },
      "source": [
        "#RESULTS\n",
        "\n",
        "1.   ## Taylor series expansion of asin(x)\n",
        "*  n=1 x\n",
        "*  n=3 x**3/6 + x\n",
        "*  n=5 3*x**5/40 + x**3/6 + x\n",
        "*  n=7 5*x**7/112 + 3*x**5/40 + x**3/6 + x\n",
        "*  n=9 35*x**9/1152 + 5*x**7/112 + 3*x**5/40 + x**3/6 + x    \n",
        "![alt text](data:image/png;base64,iVBORw0KGgoAAAANSUhEUgAAAYMAAAEaCAYAAADzDTuZAAAABHNCSVQICAgIfAhkiAAAAAlwSFlz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%0AEEgYCCGEQMJACCEE8P8BLiK2UESnprwAAAAASUVORK5CYII=%0A)\n",
        "\n",
        "2.   ## Taylor series calculaion of asin(x)\n",
        "  Enter argument (x): 0.75       \n",
        "  Standard asin(0.75) =   0.85    \n",
        "\n",
        "| k  | k=0      | k=1      | k=2      | k=3      | k=4      |   \n",
        "| --:|:--------:|:--------:|:--------:|:--------:| --------:|     \n",
        "| a  | a0=0.75  | a1=0.07  | a2=0.02  | a3=0.01  | a4=0.00  |      \n",
        "| S  | S0=0.75  | S1=0.82  | S2=0.84  | S3=0.84  | S4=0.85  |     \n",
        "\n",
        "   ### The Final answer\n",
        "       my asin(0.75) =   0.85\n",
        " \n",
        "\n"
      ]
    }
  ]
}